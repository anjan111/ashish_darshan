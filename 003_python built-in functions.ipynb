{
 "cells": [
  {
   "cell_type": "code",
   "execution_count": 5,
   "metadata": {},
   "outputs": [
    {
     "name": "stdout",
     "output_type": "stream",
     "text": [
      "enter int data 789\n",
      "data :  789\n",
      "<type 'str'>\n",
      "memory loc :  72944816\n"
     ]
    }
   ],
   "source": [
    "# raw_input() --->> to read the data from keyboard\n",
    "# print    ----->>> to display the data on monitor\n",
    "# type()  ------>>> to know the datatype of any variable\n",
    "# id()    ----->>>> to know the memory loc\n",
    "\n",
    "var = raw_input(\"enter int data \")\n",
    "print \"data : \",var\n",
    "print type(var)\n",
    "print \"memory loc : \",id(var)"
   ]
  },
  {
   "cell_type": "code",
   "execution_count": 6,
   "metadata": {},
   "outputs": [
    {
     "name": "stdout",
     "output_type": "stream",
     "text": [
      "enter float data 78.6545\n",
      "data :  78.6545\n",
      "<type 'str'>\n",
      "memory loc :  72943936\n"
     ]
    }
   ],
   "source": [
    "var = raw_input(\"enter float data \")\n",
    "print \"data : \",var\n",
    "print type(var)\n",
    "print \"memory loc : \",id(var)"
   ]
  },
  {
   "cell_type": "code",
   "execution_count": 7,
   "metadata": {},
   "outputs": [
    {
     "name": "stdout",
     "output_type": "stream",
     "text": [
      "enter complex data 7+5j\n",
      "data :  7+5j\n",
      "<type 'str'>\n",
      "memory loc :  78905056\n"
     ]
    }
   ],
   "source": [
    "var = raw_input(\"enter complex data \")\n",
    "print \"data : \",var\n",
    "print type(var)\n",
    "print \"memory loc : \",id(var)"
   ]
  },
  {
   "cell_type": "code",
   "execution_count": 10,
   "metadata": {},
   "outputs": [
    {
     "name": "stdout",
     "output_type": "stream",
     "text": [
      "enter bool data False\n",
      "data :  False\n",
      "<type 'str'>\n",
      "memory loc :  78904136\n"
     ]
    }
   ],
   "source": [
    "var = raw_input(\"enter bool data \")\n",
    "print \"data : \",var\n",
    "print type(var)\n",
    "print \"memory loc : \",id(var)"
   ]
  },
  {
   "cell_type": "code",
   "execution_count": 11,
   "metadata": {},
   "outputs": [
    {
     "name": "stdout",
     "output_type": "stream",
     "text": [
      "enter Nonetype data None\n",
      "data :  None\n",
      "<type 'str'>\n",
      "memory loc :  72944576\n"
     ]
    }
   ],
   "source": [
    "var = raw_input(\"enter Nonetype data \")\n",
    "print \"data : \",var\n",
    "print type(var)\n",
    "print \"memory loc : \",id(var)"
   ]
  },
  {
   "cell_type": "code",
   "execution_count": 12,
   "metadata": {},
   "outputs": [
    {
     "name": "stdout",
     "output_type": "stream",
     "text": [
      "enter list data [12,45]\n",
      "data :  [12,45]\n",
      "<type 'str'>\n",
      "memory loc :  72945176\n"
     ]
    }
   ],
   "source": [
    "# execute remaining dataatype elements\n",
    "var = raw_input(\"enter list data \")\n",
    "print \"data : \",var\n",
    "print type(var)\n",
    "print \"memory loc : \",id(var)"
   ]
  },
  {
   "cell_type": "code",
   "execution_count": 13,
   "metadata": {},
   "outputs": [
    {
     "name": "stdout",
     "output_type": "stream",
     "text": [
      "enter list data [12,4,4]\n",
      "data :  [12, 4, 4]\n",
      "<type 'list'>\n",
      "memory loc :  72995976\n"
     ]
    }
   ],
   "source": [
    "# input() --->> to read the data from keyboard\n",
    "# print    ----->>> to display the data on monitor\n",
    "# type()  ------>>> to know the datatype of any variable\n",
    "# id()    ----->>>> to know the memory loc\n",
    "\n",
    "var = input(\"enter list data \")\n",
    "print \"data : \",var\n",
    "print type(var)\n",
    "print \"memory loc : \",id(var)"
   ]
  },
  {
   "cell_type": "code",
   "execution_count": 18,
   "metadata": {},
   "outputs": [
    {
     "name": "stdout",
     "output_type": "stream",
     "text": [
      "enter tuple data (12,8)\n",
      "data :  (12, 8)\n",
      "<type 'tuple'>\n",
      "memory loc :  73262536\n"
     ]
    }
   ],
   "source": [
    "var = input(\"enter tuple data \")\n",
    "print \"data : \",var\n",
    "print type(var)\n",
    "print \"memory loc : \",id(var)"
   ]
  },
  {
   "cell_type": "code",
   "execution_count": null,
   "metadata": {},
   "outputs": [],
   "source": [
    "# execute remaining datatypes"
   ]
  }
 ],
 "metadata": {
  "kernelspec": {
   "display_name": "Python 2",
   "language": "python",
   "name": "python2"
  },
  "language_info": {
   "codemirror_mode": {
    "name": "ipython",
    "version": 2
   },
   "file_extension": ".py",
   "mimetype": "text/x-python",
   "name": "python",
   "nbconvert_exporter": "python",
   "pygments_lexer": "ipython2",
   "version": "2.7.16"
  }
 },
 "nbformat": 4,
 "nbformat_minor": 2
}
