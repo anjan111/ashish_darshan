{
 "cells": [
  {
   "cell_type": "markdown",
   "metadata": {},
   "source": [
    "#####  Syntax\n",
    "\n",
    "===>> The Structure / rules we have to follow while writing the program\n",
    "\n",
    "##### Program\n",
    "\n",
    "===>>  Set of instructions to do any one specifc task\n",
    "\n",
    "##### Instruction\n",
    "\n",
    "===>>  A line of code with in the program\n",
    "\n",
    "##### Types of instructions \n",
    "\n",
    "===>> Comments \n",
    "\n",
    "===>> Statements\n",
    "\n",
    "###### Comment \n",
    "\n",
    "===>> An instructions which can't be executable \n",
    "\n",
    "===>> which can used for to give the brief explanation for each and every statement\n",
    "\n",
    "##### We can implliment in  2 ways \n",
    "\n",
    "\n",
    "====>>> single line comment   #\n",
    "\n",
    "====>>> Multiline comment   ''' '''\n",
    "\n",
    "#####  Statements\n",
    "\n",
    "====>>> An instructions which can be excutable \n",
    "\n",
    "\n",
    "\n",
    "\n",
    "\n",
    "\n",
    "\n",
    "\n",
    "\n",
    "\n",
    "\n",
    "\n",
    "\n",
    "\n",
    "\n",
    "\n",
    "\n",
    "\n",
    "\n",
    "\n",
    "\n",
    "\n"
   ]
  },
  {
   "cell_type": "code",
   "execution_count": 2,
   "metadata": {},
   "outputs": [
    {
     "name": "stdout",
     "output_type": "stream",
     "text": [
      "hello\n",
      "123\n"
     ]
    }
   ],
   "source": [
    "# single line comment\n",
    "'''\n",
    "This is \n",
    "multiline \n",
    "comment\n",
    "'''\n",
    "print \"hello\" # printing hello on screen\n",
    "var =123\n",
    "print var"
   ]
  },
  {
   "cell_type": "code",
   "execution_count": 3,
   "metadata": {},
   "outputs": [
    {
     "name": "stdout",
     "output_type": "stream",
     "text": [
      "['and', 'as', 'assert', 'break', 'class', 'continue', 'def', 'del', 'elif', 'else', 'except', 'exec', 'finally', 'for', 'from', 'global', 'if', 'import', 'in', 'is', 'lambda', 'not', 'or', 'pass', 'print', 'raise', 'return', 'try', 'while', 'with', 'yield']\n"
     ]
    }
   ],
   "source": [
    "# keywords \n",
    "'''\n",
    "===>>> pre defined words \n",
    "\n",
    "===>>> Built-in words \n",
    "\n",
    "===>>> each and every keyword which having its own specific task\n",
    "'''\n",
    "import keyword\n",
    "print keyword.kwlist"
   ]
  },
  {
   "cell_type": "markdown",
   "metadata": {},
   "source": [
    "# identifiers\n",
    "\n",
    "===>>> user defined words \n",
    "\n",
    "===>>> programmer defined words\n",
    "\n",
    "===>>> to identify the variables , functions, classes using names \n",
    "\n",
    "### Rules\n",
    "\n",
    "==>> we can use alphabets  a-z / A-Z\n",
    "\n",
    "==>> we can use digits   0-9\n",
    "\n",
    "==>> we can use underscore _\n",
    "\n",
    "==>> don't start with digit 0-9\n",
    "\n",
    "==>> don't use keywords   \n",
    "\n",
    "==>> don't use special characters !@#%^&*(){}[],./<>?\n",
    "\n",
    "### Variables\n",
    "\n",
    "===>>> variables means to store the data with in the memory loc\n",
    "\n",
    "===>>> we can access the data  from memory loc\n",
    "\n",
    "===>>> we can directly assign the data to the identifier\n",
    "\n",
    "===>>> the rules for identifier is same as variables"
   ]
  },
  {
   "cell_type": "code",
   "execution_count": 4,
   "metadata": {},
   "outputs": [
    {
     "name": "stdout",
     "output_type": "stream",
     "text": [
      "123\n"
     ]
    }
   ],
   "source": [
    "var =123\n",
    "print var"
   ]
  },
  {
   "cell_type": "code",
   "execution_count": 5,
   "metadata": {},
   "outputs": [
    {
     "name": "stdout",
     "output_type": "stream",
     "text": [
      "24\n"
     ]
    }
   ],
   "source": [
    "var_ =24\n",
    "print var_"
   ]
  },
  {
   "cell_type": "code",
   "execution_count": 6,
   "metadata": {},
   "outputs": [
    {
     "name": "stdout",
     "output_type": "stream",
     "text": [
      "12\n"
     ]
    }
   ],
   "source": [
    "var3  =12\n",
    "print var3"
   ]
  },
  {
   "cell_type": "code",
   "execution_count": 7,
   "metadata": {},
   "outputs": [
    {
     "ename": "SyntaxError",
     "evalue": "invalid syntax (<ipython-input-7-4b30566e6a1f>, line 1)",
     "output_type": "error",
     "traceback": [
      "\u001b[1;36m  File \u001b[1;32m\"<ipython-input-7-4b30566e6a1f>\"\u001b[1;36m, line \u001b[1;32m1\u001b[0m\n\u001b[1;33m    4var =123\u001b[0m\n\u001b[1;37m       ^\u001b[0m\n\u001b[1;31mSyntaxError\u001b[0m\u001b[1;31m:\u001b[0m invalid syntax\n"
     ]
    }
   ],
   "source": [
    "4var =123\n",
    "print 4var"
   ]
  },
  {
   "cell_type": "code",
   "execution_count": 8,
   "metadata": {},
   "outputs": [
    {
     "ename": "SyntaxError",
     "evalue": "invalid syntax (<ipython-input-8-9fc57d9aa64a>, line 1)",
     "output_type": "error",
     "traceback": [
      "\u001b[1;36m  File \u001b[1;32m\"<ipython-input-8-9fc57d9aa64a>\"\u001b[1;36m, line \u001b[1;32m1\u001b[0m\n\u001b[1;33m    v@r =123\u001b[0m\n\u001b[1;37m     ^\u001b[0m\n\u001b[1;31mSyntaxError\u001b[0m\u001b[1;31m:\u001b[0m invalid syntax\n"
     ]
    }
   ],
   "source": [
    "v@r =123\n",
    "print v@r"
   ]
  },
  {
   "cell_type": "code",
   "execution_count": 9,
   "metadata": {},
   "outputs": [
    {
     "ename": "SyntaxError",
     "evalue": "invalid syntax (<ipython-input-9-28965cad32b4>, line 1)",
     "output_type": "error",
     "traceback": [
      "\u001b[1;36m  File \u001b[1;32m\"<ipython-input-9-28965cad32b4>\"\u001b[1;36m, line \u001b[1;32m1\u001b[0m\n\u001b[1;33m    while =123\u001b[0m\n\u001b[1;37m          ^\u001b[0m\n\u001b[1;31mSyntaxError\u001b[0m\u001b[1;31m:\u001b[0m invalid syntax\n"
     ]
    }
   ],
   "source": [
    "while =123\n",
    "print while"
   ]
  },
  {
   "cell_type": "code",
   "execution_count": null,
   "metadata": {},
   "outputs": [],
   "source": []
  }
 ],
 "metadata": {
  "kernelspec": {
   "display_name": "Python 2",
   "language": "python",
   "name": "python2"
  },
  "language_info": {
   "codemirror_mode": {
    "name": "ipython",
    "version": 2
   },
   "file_extension": ".py",
   "mimetype": "text/x-python",
   "name": "python",
   "nbconvert_exporter": "python",
   "pygments_lexer": "ipython2",
   "version": "2.7.16"
  }
 },
 "nbformat": 4,
 "nbformat_minor": 2
}
